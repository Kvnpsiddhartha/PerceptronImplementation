{
  "nbformat": 4,
  "nbformat_minor": 0,
  "metadata": {
    "colab": {
      "provenance": []
    },
    "kernelspec": {
      "name": "python3",
      "display_name": "Python 3"
    },
    "language_info": {
      "name": "python"
    }
  },
  "cells": [
    {
      "cell_type": "code",
      "source": [
        "import random\n",
        "import numpy as np\n",
        "import pandas as pd\n",
        "import matplotlib.pyplot as plt\n",
        "import copy"
      ],
      "metadata": {
        "id": "ab_pdGR0URiv"
      },
      "execution_count": 115,
      "outputs": []
    },
    {
      "cell_type": "code",
      "source": [
        "gate='AND'"
      ],
      "metadata": {
        "id": "yju4vIn9IFnE"
      },
      "execution_count": 116,
      "outputs": []
    },
    {
      "cell_type": "code",
      "source": [
        "x1=[0,0,1,1]\n",
        "x2=[0,1,0,1]\n",
        "outputs={'AND':[0,0,0,1],'OR':[0,1,1,1],'NAND':[1,1,1,0],'NOR':[1,0,0,0]}\n",
        "o=outputs[gate]\n",
        "target='o'\n",
        "column_names=['x1','x2',target]\n",
        "columns_values=list(zip(x1,x2,o))\n",
        "df = pd.DataFrame(columns_values,\n",
        "               columns =column_names)\n",
        "print(df)"
      ],
      "metadata": {
        "colab": {
          "base_uri": "https://localhost:8080/"
        },
        "id": "E6k7cCpjZd20",
        "outputId": "203e686a-9957-4e3c-9a78-946d99ec9914"
      },
      "execution_count": 117,
      "outputs": [
        {
          "output_type": "stream",
          "name": "stdout",
          "text": [
            "   x1  x2  o\n",
            "0   0   0  0\n",
            "1   0   1  0\n",
            "2   1   0  0\n",
            "3   1   1  1\n"
          ]
        }
      ]
    },
    {
      "cell_type": "code",
      "execution_count": 118,
      "metadata": {
        "id": "t5hEBPFoS08H"
      },
      "outputs": [],
      "source": [
        "class Perceptron:\n",
        "  def __init__(self,df,output):\n",
        "    self.df=df\n",
        "    self.output=output\n",
        "    self.columns=list(self.df.columns)\n",
        "    self.columns.remove(self.output)\n",
        "  def getx(self,row,index):\n",
        "    column=self.columns[index-1]\n",
        "    x=row[index]\n",
        "    return x\n",
        "\n",
        "  def predict_output(self,row):\n",
        "    predicted_output=self.weights[0]\n",
        "    for i in range(1,len(self.weights)):\n",
        "      x=self.getx(row,i)\n",
        "      predicted_output+=self.weights[i]*x\n",
        "    return 1 if predicted_output > 0 else 0\n",
        "  def update_weights(self,row):\n",
        "    updated_weights=[]\n",
        "    original_output=row[self.output]\n",
        "    predicted_output=self.predict_output(row) \n",
        "    # print(original_output,predicted_output) \n",
        "\n",
        "    delta_w=self.learning_rate*(original_output-predicted_output)    \n",
        "    self.weights[0]=self.weights[0]+delta_w\n",
        "\n",
        "    for i in range(1,len(self.weights)):\n",
        "      x=self.getx(row,i)\n",
        "\n",
        "      delta_w=self.learning_rate*(original_output-predicted_output)*x      \n",
        "      self.weights[i]=self.weights[i]+delta_w\n",
        "\n",
        "  def train(self,learning_rate=0.1,weights=[],iterations=-1):\n",
        "    self.weights=weights if weights else [random.random() for i in range(len(self.columns)+1)]\n",
        "    self.iterations=iterations\n",
        "    self.learning_rate=learning_rate\n",
        "    self.no_of_iterations=0\n",
        "    while True:\n",
        "      flag=True\n",
        "      for i in range(len(self.df)):\n",
        "        row=self.df.iloc[i]\n",
        "        if self.predict_output(row)!=row[self.output]:\n",
        "          flag=False\n",
        "        self.update_weights(row)\n",
        "        # print(self.get_weights())\n",
        "      if flag or self.no_of_iterations==self.iterations:\n",
        "        break\n",
        "      self.no_of_iterations+=1\n",
        "  def get_weights(self):\n",
        "    return self.weights\n",
        "  def get_iters(self):\n",
        "    return self.no_of_iterations\n",
        "\n"
      ]
    },
    {
      "cell_type": "code",
      "source": [
        "GATE=Perceptron(df,target)"
      ],
      "metadata": {
        "id": "06tQP4w2abZl"
      },
      "execution_count": 119,
      "outputs": []
    },
    {
      "cell_type": "code",
      "source": [
        "GATE.train()"
      ],
      "metadata": {
        "id": "oY8OCy0Japz_"
      },
      "execution_count": 120,
      "outputs": []
    },
    {
      "cell_type": "code",
      "source": [
        "for i in range(len(df)):\n",
        "  row=df.iloc[i]\n",
        "  print(GATE.predict_output(row))"
      ],
      "metadata": {
        "colab": {
          "base_uri": "https://localhost:8080/"
        },
        "id": "OXk26-35atNh",
        "outputId": "fdbe0b95-3358-4694-ccb9-2fa9eea6a199"
      },
      "execution_count": 121,
      "outputs": [
        {
          "output_type": "stream",
          "name": "stdout",
          "text": [
            "0\n",
            "0\n",
            "0\n",
            "1\n"
          ]
        }
      ]
    },
    {
      "cell_type": "code",
      "source": [
        "GATE.get_weights()"
      ],
      "metadata": {
        "id": "TDlKIQBweDBD",
        "colab": {
          "base_uri": "https://localhost:8080/"
        },
        "outputId": "c0fd59d7-627e-4795-ca36-5849b198538e"
      },
      "execution_count": 122,
      "outputs": [
        {
          "output_type": "execute_result",
          "data": {
            "text/plain": [
              "[-0.4145834287443757, 0.382415079311336, 0.730680577175864]"
            ]
          },
          "metadata": {},
          "execution_count": 122
        }
      ]
    },
    {
      "cell_type": "code",
      "source": [
        "GATE=Perceptron(df,target)\n",
        "learning_rate=0\n",
        "xpoints=[]\n",
        "ypoints=[]\n",
        "weights=[random.random() for i in range(len(df.columns))]\n",
        "for i in range(10):\n",
        "  learning_rate+=0.1\n",
        "  learning_rate=round(learning_rate,1)\n",
        "  GATE.train(learning_rate=learning_rate,weights=copy.deepcopy(weights))\n",
        "  ypoints.append(GATE.get_iters())\n",
        "  xpoints.append(learning_rate)"
      ],
      "metadata": {
        "id": "EKj5ybBvH5hs"
      },
      "execution_count": 123,
      "outputs": []
    },
    {
      "cell_type": "code",
      "source": [
        "print(xpoints,ypoints)"
      ],
      "metadata": {
        "colab": {
          "base_uri": "https://localhost:8080/"
        },
        "id": "_Q-t2HajLPx8",
        "outputId": "ae46445d-06a4-4d1d-c5af-6085d1b8fc33"
      },
      "execution_count": 124,
      "outputs": [
        {
          "output_type": "stream",
          "name": "stdout",
          "text": [
            "[0.1, 0.2, 0.3, 0.4, 0.5, 0.6, 0.7, 0.8, 0.9, 1.0] [6, 4, 2, 2, 2, 3, 1, 1, 1, 2]\n"
          ]
        }
      ]
    },
    {
      "cell_type": "code",
      "source": [
        "xlabel='learning_rate'\n",
        "ylabel='iterations'\n",
        "\n",
        "plt.plot(xpoints,ypoints)\n",
        "\n",
        "plt.xticks(xpoints)\n",
        "plt.yticks(ypoints)\n",
        "\n",
        "plt.xlabel(xlabel)\n",
        "plt.ylabel(ylabel)\n",
        "\n",
        "plt.show()"
      ],
      "metadata": {
        "colab": {
          "base_uri": "https://localhost:8080/",
          "height": 280
        },
        "id": "EhI5L1xnLSMW",
        "outputId": "5eec452b-09ae-4d81-8afc-2eed18cff5d5"
      },
      "execution_count": 125,
      "outputs": [
        {
          "output_type": "display_data",
          "data": {
            "text/plain": [
              "<Figure size 432x288 with 1 Axes>"
            ],
            "image/png": "[encoded data removed]"
          },
          "metadata": {
            "needs_background": "light"
          }
        }
      ]
    }
  ]
}